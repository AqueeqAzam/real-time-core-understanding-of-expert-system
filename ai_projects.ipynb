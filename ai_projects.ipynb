{
  "nbformat": 4,
  "nbformat_minor": 0,
  "metadata": {
    "colab": {
      "provenance": [],
      "authorship_tag": "ABX9TyOtMzI3kBkmqWV8zbHO/sml",
      "include_colab_link": true
    },
    "kernelspec": {
      "name": "python3",
      "display_name": "Python 3"
    },
    "language_info": {
      "name": "python"
    }
  },
  "cells": [
    {
      "cell_type": "markdown",
      "metadata": {
        "id": "view-in-github",
        "colab_type": "text"
      },
      "source": [
        "<a href=\"https://colab.research.google.com/github/AqueeqAzam/real-time-core-understanding-of-expert-system/blob/main/ai_projects.ipynb\" target=\"_parent\"><img src=\"https://colab.research.google.com/assets/colab-badge.svg\" alt=\"Open In Colab\"/></a>"
      ]
    },
    {
      "cell_type": "markdown",
      "source": [
        "# `Disease diagnosis using expert system`"
      ],
      "metadata": {
        "id": "T7Qs3d36thYx"
      }
    },
    {
      "cell_type": "markdown",
      "source": [
        "`Knowledge Base`\n",
        "\n",
        "A Knowledge Base is a repository of information and rules that a system uses to make decisions."
      ],
      "metadata": {
        "id": "fG7XNrocj-f8"
      }
    },
    {
      "cell_type": "code",
      "source": [
        "# Knowledge Base\n",
        "data = {\n",
        "    \"Fever\": [True, False, True, False, True, False, True, False, True, False],\n",
        "    \"Cough\": [True, True, False, True, True, False, False, True, True, False],\n",
        "    \"Headache\": [False, True, True, False, True, True, False, True, False, False],\n",
        "    \"Fatigue\": [True, False, False, True, True, False, True, True, False, True],\n",
        "    \"Disease\": [\"COVID-19\", \"Flu\", \"Common Cold\", \"Healthy\", \"COVID-19\", \"Common Cold\", \"COVID-19\", \"Flu\", \"COVID-19\", \"Healthy\"]\n",
        "}\n",
        "\n",
        "symptoms = [\"Fever\", \"Cough\", \"Headache\", \"Fatigue\"]"
      ],
      "metadata": {
        "id": "hPRGVputitfE"
      },
      "execution_count": 25,
      "outputs": []
    },
    {
      "cell_type": "markdown",
      "source": [
        "`Inference Engine`\n",
        "\n",
        "An Inference Engine is a component that uses the Knowledge Base to make decisions or draw conclusions."
      ],
      "metadata": {
        "id": "A6yPgalokJAE"
      }
    },
    {
      "cell_type": "code",
      "source": [
        "# Define a function to predict disease based on symptoms\n",
        "def predict_disease(symptoms):\n",
        "    if symptoms[\"Fever\"] and symptoms[\"Cough\"] and symptoms[\"Fatigue\"]:\n",
        "        return \"COVID-19\"\n",
        "    elif symptoms[\"Fever\"] and symptoms[\"Cough\"] and symptoms[\"Headache\"]:\n",
        "        return \"Flu\"\n",
        "    elif symptoms[\"Cough\"] and symptoms[\"Headache\"] and symptoms[\"Fatigue\"]:\n",
        "        return \"Common Cold\"\n",
        "    else:\n",
        "        return \"Healthy\""
      ],
      "metadata": {
        "id": "kXaIWFVXiu9x"
      },
      "execution_count": 26,
      "outputs": []
    },
    {
      "cell_type": "markdown",
      "source": [
        "`User Interface`\n",
        "\n",
        "A User Interface is the component that interacts with the user and provides input to the system."
      ],
      "metadata": {
        "id": "PnKyk6g7nnpT"
      }
    },
    {
      "cell_type": "code",
      "source": [
        "# Get user input\n",
        "fever = input(\"Do you have a fever? (yes/no): \")\n",
        "cough = input(\"Do you have a cough? (yes/no): \")\n",
        "headache = input(\"Do you have a headache? (yes/no): \")\n",
        "fatigue = input(\"Do you have fatigue? (yes/no): \")\n",
        "\n",
        "# Convert user input to boolean values\n",
        "symptoms = {\n",
        "    \"Fever\": fever.lower() == \"yes\",\n",
        "    \"Cough\": cough.lower() == \"yes\",\n",
        "    \"Headache\": headache.lower() == \"yes\",\n",
        "    \"Fatigue\": fatigue.lower() == \"yes\"\n",
        "}\n",
        "\n",
        "# Predict disease using expert system\n",
        "disease = predict_disease(symptoms)\n",
        "print(\"Predicted disease:\", disease)"
      ],
      "metadata": {
        "colab": {
          "base_uri": "https://localhost:8080/"
        },
        "id": "NxCGv9Sonvux",
        "outputId": "57f7dd2c-0d13-4479-eb25-979258d40a15"
      },
      "execution_count": 27,
      "outputs": [
        {
          "output_type": "stream",
          "name": "stdout",
          "text": [
            "Do you have a fever? (yes/no): no\n",
            "Do you have a cough? (yes/no): no\n",
            "Do you have a headache? (yes/no): yes\n",
            "Do you have fatigue? (yes/no): yes\n",
            "Predicted disease: Healthy\n"
          ]
        }
      ]
    },
    {
      "cell_type": "markdown",
      "source": [
        "`First Order Logic`"
      ],
      "metadata": {
        "id": "amYpqA145u4g"
      }
    },
    {
      "cell_type": "code",
      "source": [
        "# Define the predicates\n",
        "def fever(x):\n",
        "    return x[\"Fever\"]\n",
        "\n",
        "def cough(x):\n",
        "    return x[\"Cough\"]\n",
        "\n",
        "def fatigue(x):\n",
        "    return x[\"Fatigue\"]\n",
        "\n",
        "def headache(x):\n",
        "    return x[\"Headache\"]\n",
        "\n",
        "# Define the rules\n",
        "def covid19(x):\n",
        "    return fever(x) and cough(x) and fatigue(x)\n",
        "\n",
        "def flu(x):\n",
        "    return fever(x) and headache(x) and fatigue(x)\n",
        "\n",
        "def common_cold(x):\n",
        "    return cough(x) and headache(x)\n",
        "\n",
        "# Get user input\n",
        "def get_user_input():\n",
        "    fact = {}\n",
        "    fact[\"Fever\"] = input(\"Do you have a fever? (yes/no): \").lower() == \"yes\"\n",
        "    fact[\"Cough\"] = input(\"Do you have a cough? (yes/no): \").lower() == \"yes\"\n",
        "    fact[\"Fatigue\"] = input(\"Do you have fatigue? (yes/no): \").lower() == \"yes\"\n",
        "    fact[\"Headache\"] = input(\"Do you have a headache? (yes/no): \").lower() == \"yes\"\n",
        "    return fact\n",
        "\n",
        "# Apply the rules to the user input\n",
        "def apply_rules(fact):\n",
        "    if covid19(fact):\n",
        "        print(\"COVID-19\")\n",
        "    elif flu(fact):\n",
        "        print(\"Flu\")\n",
        "    elif common_cold(fact):\n",
        "        print(\"Common Cold\")\n",
        "    else:\n",
        "        print(\"Unknown\")\n",
        "\n",
        "# Main program\n",
        "fact = get_user_input()\n",
        "apply_rules(fact)"
      ],
      "metadata": {
        "colab": {
          "base_uri": "https://localhost:8080/"
        },
        "id": "Y1d0dn7w5yTl",
        "outputId": "acb934cd-c5d1-433a-9bf1-2d075962cb09"
      },
      "execution_count": 30,
      "outputs": [
        {
          "output_type": "stream",
          "name": "stdout",
          "text": [
            "Do you have a fever? (yes/no): no\n",
            "Do you have a cough? (yes/no): no\n",
            "Do you have fatigue? (yes/no): yes\n",
            "Do you have a headache? (yes/no): yes\n",
            "Unknown\n"
          ]
        }
      ]
    }
  ]
}