{
  "nbformat": 4,
  "nbformat_minor": 0,
  "metadata": {
    "colab": {
      "provenance": [],
      "authorship_tag": "ABX9TyPluot+zq3OR4JH/aFUkKUl",
      "include_colab_link": true
    },
    "kernelspec": {
      "name": "python3",
      "display_name": "Python 3"
    },
    "language_info": {
      "name": "python"
    }
  },
  "cells": [
    {
      "cell_type": "markdown",
      "metadata": {
        "id": "view-in-github",
        "colab_type": "text"
      },
      "source": [
        "<a href=\"https://colab.research.google.com/github/AqueeqAzam/real-time-core-understanding-of-expert-system/blob/main/nlp_projects.ipynb\" target=\"_parent\"><img src=\"https://colab.research.google.com/assets/colab-badge.svg\" alt=\"Open In Colab\"/></a>"
      ]
    },
    {
      "cell_type": "markdown",
      "source": [
        "# `Disease diagnosis using expert system and nlp`"
      ],
      "metadata": {
        "id": "T7Qs3d36thYx"
      }
    },
    {
      "source": [
        "import numpy as np\n",
        "from sklearn.ensemble import RandomForestClassifier\n",
        "from sklearn.feature_extraction.text import TfidfVectorizer\n",
        "from sklearn.model_selection import train_test_split\n",
        "\n",
        "# Knowledge Base\n",
        "kb = {\n",
        "    \"Fever\": [True, False, True, False, True, False, True, False, True, False],\n",
        "    \"Cough\": [True, True, False, True, True, False, False, True, True, False],\n",
        "    \"Headache\": [False, True, True, False, True, True, False, True, False, False],\n",
        "    \"Fatigue\": [True, False, False, True, True, False, True, True, False, True],\n",
        "    \"Disease\": [\"COVID-19\", \"Flu\", \"Common Cold\", \"Healthy\", \"COVID-19\", \"Common Cold\", \"COVID-19\", \"Flu\", \"COVID-19\", \"Healthy\"]\n",
        "}\n",
        "\n",
        "# Inference Engine\n",
        "def inference_engine():\n",
        "    # Create a dataset\n",
        "    data = []\n",
        "    symptom_keys = list(kb.keys())  # Get a list of symptom keys\n",
        "    symptom_keys.remove(\"Disease\") # Remove the \"Disease\" key as it contains diagnoses, not symptoms\n",
        "    for i in range(100):\n",
        "        # Randomly select symptoms\n",
        "        symptoms = np.random.choice(symptom_keys, size=3)\n",
        "        # Randomly select a diagnosis\n",
        "        diagnosis = np.random.choice(kb[\"Disease\"])\n",
        "        data.append({\"symptoms\": \" \".join(symptoms), \"diagnosis\": diagnosis})\n",
        "\n",
        "    # Split data into training and testing sets\n",
        "    train_data, test_data = train_test_split(data, test_size=0.2, random_state=42)\n",
        "\n",
        "    # Create TF-IDF vectorizer\n",
        "    vectorizer = TfidfVectorizer()\n",
        "\n",
        "    # Transform data\n",
        "    X_train = vectorizer.fit_transform([x[\"symptoms\"] for x in train_data])\n",
        "    y_train = [x[\"diagnosis\"] for x in train_data]\n",
        "    X_test = vectorizer.transform([x[\"symptoms\"] for x in test_data])\n",
        "    y_test = [x[\"diagnosis\"] for x in test_data]\n",
        "\n",
        "    # Train Random Forest model\n",
        "    model = RandomForestClassifier(n_estimators=100)\n",
        "    model.fit(X_train, y_train)\n",
        "\n",
        "    return model, vectorizer\n",
        "\n",
        "# User Interface\n",
        "def get_symptoms():\n",
        "    symptoms = input(\"Enter your symptoms (comma-separated): \")\n",
        "    return \" \".join([symptom.strip() for symptom in symptoms.split(\",\")])\n",
        "\n",
        "# Main function\n",
        "def main():\n",
        "    model, vectorizer = inference_engine()\n",
        "    symptoms = get_symptoms()\n",
        "    prediction = model.predict(vectorizer.transform([symptoms]))\n",
        "    print(\"Prediction:\", prediction[0])\n",
        "\n",
        "if __name__ == \"__main__\":\n",
        "    main()"
      ],
      "cell_type": "code",
      "metadata": {
        "colab": {
          "base_uri": "https://localhost:8080/"
        },
        "id": "u1zAWJcyje2T",
        "outputId": "9635b718-b85e-4b30-d0ec-8012ece3edb8"
      },
      "execution_count": 31,
      "outputs": [
        {
          "output_type": "stream",
          "name": "stdout",
          "text": [
            "Enter your symptoms (comma-separated): Fever, Headache\n",
            "Prediction: COVID-19\n"
          ]
        }
      ]
    }
  ]
}